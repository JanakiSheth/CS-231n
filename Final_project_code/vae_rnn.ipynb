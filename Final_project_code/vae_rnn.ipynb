{
 "cells": [
  {
   "cell_type": "code",
   "execution_count": 1,
   "metadata": {},
   "outputs": [
    {
     "name": "stdout",
     "output_type": "stream",
     "text": [
      "cpu\n"
     ]
    }
   ],
   "source": [
    "##############################\n",
    "#\n",
    "# 09/03/18 setup\n",
    "#\n",
    "##############################\n",
    "from __future__ import division\n",
    "%matplotlib inline\n",
    "%load_ext autoreload\n",
    "%autoreload 2\n",
    "\n",
    "\n",
    "import numpy as np\n",
    "import matplotlib.pyplot as plt\n",
    "import scipy.io\n",
    "from numpy import array\n",
    "import pandas as pd\n",
    "import sklearn\n",
    "import torch\n",
    "import torch.utils.data\n",
    "from torch import nn, optim\n",
    "from torch.nn import functional as F\n",
    "import random\n",
    "\n",
    "# set random seed\n",
    "# We need to set the cudnn to derministic mode so that we can get consistent result\n",
    "# Yet, this will slow down the training :( It's a trade-off\n",
    "# see https://discuss.pytorch.org/t/how-to-confugure-pytorch-to-get-deterministic-results/11797\n",
    "# see https://discuss.pytorch.org/t/network-forward-backward-calculation-precision-error/17716/2\n",
    "random_state = 100\n",
    "np.random.seed(random_state)\n",
    "torch.manual_seed(random_state)\n",
    "random.seed(random_state)\n",
    "\n",
    "device = torch.device(\"cuda:0\" if torch.cuda.is_available() else \"cpu\")\n",
    "print(device)"
   ]
  },
  {
   "cell_type": "code",
   "execution_count": 3,
   "metadata": {},
   "outputs": [
    {
     "name": "stdout",
     "output_type": "stream",
     "text": [
      "(12375,)\n",
      "(12375, 89)\n"
     ]
    }
   ],
   "source": [
    "# parameters\n",
    "data_root_dir = '/Users/janaki/Dropbox/bci/bill_grant_Fall2018'\n",
    "f_name = 'data1_nn_time.csv'\n",
    "\n",
    "# load the feature and data\n",
    "df = pd.read_csv('%s/%s' %(data_root_dir, f_name), header=-1)\n",
    "\n",
    "# define label and feature; convert it to ndarray\n",
    "# adjust the label from 0 to 9\n",
    "# y does not have to be one-hot embedding, i.e., if 10 class, then dim is 1000x10, can be 1000,\n",
    "df_label = df.iloc[:,0]\n",
    "df_f = df.iloc[:,1:]\n",
    "X1 = df_f.as_matrix()\n",
    "y1 = df_label.as_matrix() \n",
    "print(y1.shape)\n",
    "print(X1.shape)"
   ]
  },
  {
   "cell_type": "code",
   "execution_count": 4,
   "metadata": {},
   "outputs": [
    {
     "name": "stdout",
     "output_type": "stream",
     "text": [
      "(225, 55, 89)\n",
      "(225, 6, 89)\n"
     ]
    }
   ],
   "source": [
    "X_raw = np.zeros((225,55,89))\n",
    "for i in np.arange(89):\n",
    "    X_raw[:,:,i] = np.reshape(X1[:,i],(55,225)).transpose()\n",
    "    assert np.all(X_raw[:,0,i] == X1[0:225,i])\n",
    "y = np.reshape(y1,(55,225)).transpose()\n",
    "s = np.arange(X_raw.shape[1])\n",
    "np.random.shuffle(s)\n",
    "X_train = X_raw[:,s[0:44],:]\n",
    "X_val = X_raw[:,s[44:50],:]\n",
    "X_test = X_raw[:,s[50:55],:]\n",
    "print(X_raw.shape)\n",
    "print(X_val.shape)\n",
    "\n",
    "#assert np.all(torch.tensor(y,dtype = torch.long).contiguous().view(225*123) == torch.tensor(y1,dtype = torch.long).contiguous().view(225*123))"
   ]
  },
  {
   "cell_type": "code",
   "execution_count": 5,
   "metadata": {
    "collapsed": true
   },
   "outputs": [],
   "source": [
    "class Autoencoder(nn.Module):\n",
    "    def __init__(self, ):\n",
    "        super(Autoencoder, self).__init__()\n",
    "        self.fc1 = nn.Linear(89, 64)\n",
    "        self.fc2 = nn.Linear(64, 89)\n",
    "        self.tanh = nn.Tanh()\n",
    "\n",
    "    def forward(self, x):\n",
    "        encode_x = self.tanh(self.fc1(x))\n",
    "        recon_x = self.tanh(self.fc2(encode_x))\n",
    "        return encode_x, recon_x"
   ]
  },
  {
   "cell_type": "code",
   "execution_count": 6,
   "metadata": {
    "collapsed": true
   },
   "outputs": [],
   "source": [
    "def loss_function(recon_x, x):\n",
    "    BCE = F.mse_loss(recon_x, x.view(-1, 89))\n",
    "\n",
    "    return BCE"
   ]
  },
  {
   "cell_type": "code",
   "execution_count": 7,
   "metadata": {
    "collapsed": true
   },
   "outputs": [],
   "source": [
    "def train(epoch):\n",
    "    model.train()\n",
    "    train_loss = 0\n",
    "    for i in np.arange(X_train.shape[1]):\n",
    "        data = X_train[:,i,:]\n",
    "        data = torch.tensor(data, device=device)\n",
    "        optimizer.zero_grad()\n",
    "        _, recon_batch = model(data)\n",
    "        loss = loss_function(recon_batch, data)\n",
    "        loss.backward()\n",
    "        train_loss += loss.item()\n",
    "        optimizer.step()\n",
    "    return train_loss"
   ]
  },
  {
   "cell_type": "code",
   "execution_count": 8,
   "metadata": {
    "collapsed": true
   },
   "outputs": [],
   "source": [
    "def test(epoch):\n",
    "    model.eval()\n",
    "    test_loss = 0\n",
    "    with torch.no_grad():\n",
    "        for i in np.arange(X_val.shape[1]):\n",
    "            #import pdb; pdb.set_trace()\n",
    "            data = X_val[:,i,:]\n",
    "            data = torch.tensor(data, device=device)\n",
    "            _, recon_batch = model(data)\n",
    "            test_loss += loss_function(recon_batch, data).item()\n",
    "    return test_loss       "
   ]
  },
  {
   "cell_type": "code",
   "execution_count": 9,
   "metadata": {
    "collapsed": true
   },
   "outputs": [],
   "source": [
    "model = Autoencoder().to(device)\n",
    "optimizer = optim.Adam(model.parameters(), lr=1e-2)\n",
    "# define the data\n",
    "X_train = X_train.astype(np.float32) \n",
    "X_val = X_val.astype(np.float32) \n",
    "training_loss = []\n",
    "validation_loss = []\n",
    "\n",
    "for epoch in range(0,70):\n",
    "    tr_loss = train(epoch)\n",
    "    training_loss.append(tr_loss/44)\n",
    "    val_loss = test(epoch)\n",
    "    validation_loss.append(val_loss/6)"
   ]
  },
  {
   "cell_type": "code",
   "execution_count": 11,
   "metadata": {},
   "outputs": [],
   "source": [
    "X_raw = X_raw.astype(np.float32) \n",
    "X_raw_new = np.zeros([225,55,64])\n",
    "for i in np.arange(X_raw.shape[1]):\n",
    "    data = X_raw[:,i,:]\n",
    "    data = torch.tensor(data, device=device)\n",
    "    feature,_ = model(data)\n",
    "    X_raw_new[:,i,:] = feature.detach().numpy()"
   ]
  },
  {
   "cell_type": "code",
   "execution_count": 15,
   "metadata": {},
   "outputs": [
    {
     "data": {
      "text/plain": [
       "(225, 55, 64)"
      ]
     },
     "execution_count": 15,
     "metadata": {},
     "output_type": "execute_result"
    },
    {
     "data": {
      "image/png": "[encoded data removed]",
      "text/plain": [
       "<matplotlib.figure.Figure at 0x1820f8c8d0>"
      ]
     },
     "metadata": {},
     "output_type": "display_data"
    }
   ],
   "source": [
    "plt.plot(training_loss)\n",
    "plt.plot(validation_loss)\n",
    "X_raw_new.shape"
   ]
  },
  {
   "cell_type": "markdown",
   "metadata": {
    "collapsed": true
   },
   "source": [
    "X_raw_new then becomes the new input to the rnn_batch_bidirectional file. "
   ]
  },
  {
   "cell_type": "code",
   "execution_count": null,
   "metadata": {
    "collapsed": true
   },
   "outputs": [],
   "source": []
  }
 ],
 "metadata": {
  "kernelspec": {
   "display_name": "Python 3",
   "language": "python",
   "name": "python3"
  },
  "language_info": {
   "codemirror_mode": {
    "name": "ipython",
    "version": 3
   },
   "file_extension": ".py",
   "mimetype": "text/x-python",
   "name": "python",
   "nbconvert_exporter": "python",
   "pygments_lexer": "ipython3",
   "version": "3.6.8"
  }
 },
 "nbformat": 4,
 "nbformat_minor": 2
}
